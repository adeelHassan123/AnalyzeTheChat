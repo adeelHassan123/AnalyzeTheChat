{
 "cells": [
  {
   "cell_type": "code",
   "execution_count": null,
   "id": "86a91d66",
   "metadata": {},
   "outputs": [],
   "source": [
    "import pandas as pd\n",
    "import re\n",
    "\n",
    "try:\n",
    "    with open(\"xyz.txt\", \"r\", encoding=\"utf-8\") as file:\n",
    "        chat_data = file.read()\n",
    "except FileNotFoundError:\n",
    "        chat_data = None\n",
    "\n",
    "# Corrected pattern with narrow non-breaking space (u202f) before am/pm\n",
    "date_time_pattern = r'\\d{1,2}/\\d{1,2}/\\d{4}, \\d{1,2}:\\d{2}\\u202f[ap]m - '\n",
    "\n",
    "msg_list = re.split(date_time_pattern, chat_data)[1:]\n",
    "date_list = re.findall(date_time_pattern, chat_data)\n",
    "# Clean the date strings to remove Unicode spaces and keep valid datetime\n",
    "cleaned_dates = [d.replace('\\u202f', '').replace('am', 'AM').replace('pm', 'PM') for d in date_list]\n",
    "df = pd.DataFrame({'msg_raw': msg_list, 'dt_raw': cleaned_dates})\n",
    "# Convert to datetime with 12-hour format\n",
    "df['dt_raw'] = pd.to_datetime(df['dt_raw'], format='%d/%m/%Y, %I:%M%p - ')\n",
    "df.rename(columns={'dt_raw': 'date'}, inplace=True)\n",
    "# Separate user and message\n",
    "user_names = []\n",
    "actual_msgs = []\n",
    "for msg in df['msg_raw']:\n",
    "    split_msg = re.split(r'([\\w\\W]+?): ', msg)\n",
    "    if len(split_msg) > 2:\n",
    "        user_names.append(split_msg[1])\n",
    "        actual_msgs.append(' '.join(split_msg[2:]))\n",
    "    else:\n",
    "        user_names.append('Group_Message')\n",
    "        actual_msgs.append(msg)\n",
    "df['user'] = user_names\n",
    "df['message'] = actual_msgs\n",
    "df.drop(columns=['msg_raw'], inplace=True)\n",
    "# Extract date parts\n",
    "df['year'] = df['date'].dt.year\n",
    "df['month'] = df['date'].dt.month_name()\n",
    "df['day'] = df['date'].dt.day\n",
    "df['hour'] = df['date'].dt.hour\n",
    "df['minute'] = df['date'].dt.minute\n",
    "df['day_name'] = df['date'].dt.day_name()\n"
   ]
  },
  {
   "cell_type": "code",
   "execution_count": null,
   "id": "ba03e622",
   "metadata": {},
   "outputs": [],
   "source": [
    "df"
   ]
  },
  {
   "cell_type": "code",
   "execution_count": null,
   "id": "39857c08",
   "metadata": {},
   "outputs": [],
   "source": [
    "df[df['message'] == '<Media omitted>\\n'].shape[0]\n"
   ]
  },
  {
   "cell_type": "code",
   "execution_count": null,
   "id": "94250ae1",
   "metadata": {},
   "outputs": [],
   "source": [
    "#---------------- MOST ACTIVE USERS ----------------\n",
    "user_activity = df['user'].value_counts().reset_index()\n",
    "user_activity.columns = ['user', 'messages']\n",
    "user_activity = user_activity[user_activity['user'] != 'Group_Message']\n",
    "user_activity = user_activity.sort_values(by='messages', ascending=False)\n",
    "user_activity\n"
   ]
  },
  {
   "cell_type": "code",
   "execution_count": null,
   "id": "b384ff1d",
   "metadata": {},
   "outputs": [],
   "source": [
    "temp = df[df['message'] != '<Media omitted>\\n']\n",
    "temp = temp[temp['user'] != 'Group_Message']\n",
    "temp = temp[temp['message'] != 'This message was deleted\\n']"
   ]
  },
  {
   "cell_type": "code",
   "execution_count": null,
   "id": "aee1b111",
   "metadata": {},
   "outputs": [],
   "source": [
    "f = open(\"stop_words.txt\", 'r')\n",
    "stop_words = f.read()"
   ]
  },
  {
   "cell_type": "code",
   "execution_count": null,
   "id": "02feaa57",
   "metadata": {},
   "outputs": [],
   "source": [
    "msg = []\n",
    "\n",
    "for message in temp['message']:\n",
    "    for word in message.split():\n",
    "        i = word.lower().strip('.,!?()[]{}\"\\'')\n",
    "        if i not in stop_words:\n",
    "            msg.append(i)"
   ]
  },
  {
   "cell_type": "code",
   "execution_count": null,
   "id": "5a7be2a5",
   "metadata": {},
   "outputs": [],
   "source": [
    "from collections import Counter\n",
    "word_counts = pd.DataFrame(Counter(msg).most_common(50), columns=['word', 'count'])\n",
    "word_counts"
   ]
  },
  {
   "cell_type": "code",
   "execution_count": null,
   "id": "72c97fde",
   "metadata": {},
   "outputs": [],
   "source": [
    "!pip install emoji"
   ]
  },
  {
   "cell_type": "code",
   "execution_count": null,
   "id": "aa5e77ae",
   "metadata": {},
   "outputs": [],
   "source": [
    "import emoji\n",
    "emoji_list = []\n",
    "for msg in df['message']:\n",
    "    emoji_list.extend([c for c in msg if c in emoji.EMOJI_DATA])\n"
   ]
  },
  {
   "cell_type": "code",
   "execution_count": null,
   "id": "9c0201b5",
   "metadata": {},
   "outputs": [],
   "source": [
    "emoji_df = pd.DataFrame(emoji_list, columns=['emoji'])\n",
    "emoji_counts = emoji_df['emoji'].value_counts().reset_index(name='count')\n",
    "emoji_counts.columns = ['emoji', 'count']\n",
    "    \n",
    "emoji_counts.head(20)"
   ]
  },
  {
   "cell_type": "code",
   "execution_count": null,
   "id": "be0d7530",
   "metadata": {},
   "outputs": [],
   "source": [
    "df"
   ]
  },
  {
   "cell_type": "code",
   "execution_count": null,
   "id": "2ef5a321",
   "metadata": {},
   "outputs": [],
   "source": [
    "day_order = ['Monday', 'Tuesday', 'Wednesday', 'Thursday', 'Friday', 'Saturday', 'Sunday']\n",
    "# Pivot: day vs hour range\n",
    "# Create 'period' column: hour ranges like '0-1', '1-2', ...\n",
    "df['period'] = df['hour'].astype(str) + '-' + (df['hour'] + 1).astype(str)\n",
    "\n",
    "user_heatmap = df.pivot_table(\n",
    "    index='day_name',\n",
    "    columns='period',\n",
    "    values='message',\n",
    "    aggfunc='count',\n",
    "    fill_value=0\n",
    ")\n",
    "# Reorder days\n",
    "user_heatmap = user_heatmap.reindex(day_order, fill_value=0)\n",
    "# Sort hour ranges properly (like '0-1', '1-2', ...)\n",
    "user_heatmap = user_heatmap[sorted(user_heatmap.columns, key=lambda x: int(x.split('-')[0]))]\n",
    "user_heatmap"
   ]
  }
 ],
 "metadata": {
  "kernelspec": {
   "display_name": "base",
   "language": "python",
   "name": "python3"
  },
  "language_info": {
   "codemirror_mode": {
    "name": "ipython",
    "version": 3
   },
   "file_extension": ".py",
   "mimetype": "text/x-python",
   "name": "python",
   "nbconvert_exporter": "python",
   "pygments_lexer": "ipython3",
   "version": "3.12.7"
  }
 },
 "nbformat": 4,
 "nbformat_minor": 5
}
